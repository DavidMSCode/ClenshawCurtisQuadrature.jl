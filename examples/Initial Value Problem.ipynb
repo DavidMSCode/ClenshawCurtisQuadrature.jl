{
 "cells": [
  {
   "cell_type": "code",
   "execution_count": 117,
   "metadata": {},
   "outputs": [],
   "source": [
    "using ClenshawCurtisQuadrature"
   ]
  },
  {
   "cell_type": "code",
   "execution_count": 152,
   "metadata": {},
   "outputs": [
    {
     "data": {
      "text/plain": [
       "1-element Vector{Float64}:\n",
       " 1.5965185359757672e-16"
      ]
     },
     "metadata": {},
     "output_type": "display_data"
    }
   ],
   "source": [
    "f = x -> cos(x)\n",
    "y0 = 0\n",
    "dy0 = sin(-1)\n",
    "N = 25\n",
    "M = N\n",
    "# Compute the integral of f from -1 to 1\n",
    "A, Ta, P1, T1, P2, T2 = clenshaw_curtis_ivpii(N,M)\n",
    "\n",
    "#sample the integrand at the chebyshev nodes\n",
    "Ms = 0:M\n",
    "taus = cos.(pi*Ms/M)\n",
    "ys = f.(taus)\n",
    "\n",
    "# Apply least squares operator to the sampled data\n",
    "c = A*ys\n",
    "\n",
    "# Apply the first quadrature operator to the coefficients\n",
    "cI = P1*c\n",
    "cI[1] += dy0\n",
    "\n",
    "# Apply the second quadrature operator to the coefficients\n",
    "cI2 = P2*cI\n",
    "cI2[1] += y0\n",
    "\n",
    "# Compute the the chebyshev polynomials at 1\n",
    "poly = interpolate(1,N)\n",
    "I = poly*cI2\n",
    "\n"
   ]
  },
  {
   "cell_type": "code",
   "execution_count": null,
   "metadata": {},
   "outputs": [
    {
     "data": {
      "text/plain": [
       "201-element Vector{Float64}:\n",
       " -1.6829419696157928\n",
       " -1.677496963408417\n",
       " -1.6719683552998668\n",
       " -1.666356698146347\n",
       " -1.6606625531088948\n",
       " -1.6548864895972704\n",
       " -1.6490290852130107\n",
       " -1.6430909256916737\n",
       " -1.6370726048442625\n",
       " -1.6309747244978472\n",
       "  ⋮\n",
       " -0.04586936477153055\n",
       " -0.03985104392411941\n",
       " -0.03391288440278232\n",
       " -0.028055480018522833\n",
       " -0.022279416506898304\n",
       " -0.016585271469446505\n",
       " -0.010973614315926085\n",
       " -0.00544500620737604\n",
       " -4.9719231145687955e-17"
      ]
     },
     "metadata": {},
     "output_type": "display_data"
    }
   ],
   "source": [
    "f = x -> sin(x)\n",
    "y0 = (-cos(1)-cos(-1))\n",
    "N = 25\n",
    "M = N-1 \n",
    "# Compute the integral of f from -1 to 1\n",
    "A, Ta, P1, T1 = clenshaw_curtis_ivpi(N,M)\n",
    "\n",
    "#sample the integrand at the chebyshev nodes\n",
    "Ms = 0:M\n",
    "taus = cos.(pi*Ms/M)\n",
    "ys = f.(taus)\n",
    "\n",
    "# Apply least squares operator to the sampled data\n",
    "c = A*ys\n",
    "\n",
    "# Apply the first quadrature operator to the coefficients\n",
    "cI = P1*c\n",
    "cI[1] += y0\n",
    "\n",
    "# Compute the the chebyshev polynomials at 1\n",
    "poly = interpolate(-1:.01:1,N)\n",
    "I = poly*cI"
   ]
  },
  {
   "cell_type": "code",
   "execution_count": 135,
   "metadata": {},
   "outputs": [
    {
     "data": {
      "text/plain": [
       "0.0"
      ]
     },
     "metadata": {},
     "output_type": "display_data"
    }
   ],
   "source": [
    "(-cos(1) + cos(-1))"
   ]
  }
 ],
 "metadata": {
  "kernelspec": {
   "display_name": "Julia 1.10.2",
   "language": "julia",
   "name": "julia-1.10"
  },
  "language_info": {
   "file_extension": ".jl",
   "mimetype": "application/julia",
   "name": "julia",
   "version": "1.10.2"
  }
 },
 "nbformat": 4,
 "nbformat_minor": 2
}
